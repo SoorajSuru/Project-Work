{
 "cells": [
  {
   "cell_type": "code",
   "execution_count": 1,
   "id": "30503261-b271-4bf8-9eb9-1e798fd848cd",
   "metadata": {},
   "outputs": [
    {
     "name": "stdout",
     "output_type": "stream",
     "text": [
      "bgchgvygf\n"
     ]
    }
   ],
   "source": [
    "print (\"bgchgvygf\")"
   ]
  },
  {
   "cell_type": "code",
   "execution_count": 2,
   "id": "a16a649d-62bb-4e49-9972-07d10b8cc2cd",
   "metadata": {},
   "outputs": [
    {
     "name": "stdout",
     "output_type": "stream",
     "text": [
      "0\n",
      "1\n",
      "2\n",
      "3\n",
      "4\n",
      "5\n",
      "6\n",
      "7\n",
      "8\n",
      "9\n"
     ]
    }
   ],
   "source": [
    "for i in range (0,10):\n",
    "    print(i)"
   ]
  },
  {
   "cell_type": "code",
   "execution_count": null,
   "id": "5aeefb33-6882-4b8c-b1fc-102fd29fb5ca",
   "metadata": {},
   "outputs": [],
   "source": [
    "str1=sinput"
   ]
  }
 ],
 "metadata": {
  "kernelspec": {
   "display_name": "Python 3 (ipykernel)",
   "language": "python",
   "name": "python3"
  },
  "language_info": {
   "codemirror_mode": {
    "name": "ipython",
    "version": 3
   },
   "file_extension": ".py",
   "mimetype": "text/x-python",
   "name": "python",
   "nbconvert_exporter": "python",
   "pygments_lexer": "ipython3",
   "version": "3.10.8"
  }
 },
 "nbformat": 4,
 "nbformat_minor": 5
}
